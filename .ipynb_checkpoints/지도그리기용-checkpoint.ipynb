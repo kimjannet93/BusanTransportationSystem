{
 "cells": [
  {
   "cell_type": "code",
   "execution_count": 6,
   "metadata": {},
   "outputs": [],
   "source": [
    "import pandas as pd\n",
    "import folium\n",
    "import json\n",
    "from folium.features import DivIcon\n",
    "import cx_Oracle as oci\n",
    "import matplotlib.pyplot as plt\n",
    "\n",
    "conn = oci.connect('admin/1234@192.168.99.100:32764/xe',encoding='utf-8')\n",
    "\n",
    "df = pd.read_sql_query('SELECT * FROM TAXI',conn)\n",
    "\n",
    "df.columns = ['No','기준년월일','요일','시간대','발신지_시도','발신지_시군구','발신지_읍면동','통화건수']\n",
    "tel = df.groupby('발신지_시군구').sum()['통화건수']\n",
    "df_gu = pd.read_sql_query('SELECT * FROM BUSAN',conn)\n",
    "\n",
    "file_path = './data/부산광역시_전체_세대_및_인구개황_20200108153737.csv'\n",
    "df = pd.read_csv(file_path,encoding='euc-kr')\n",
    "df = df.set_index('구·군별')\n",
    "df = df.iloc[1:,[2]]\n",
    "geo_path='./data/busan.json'\n",
    "\n",
    "try:\n",
    "    geo_data = json.load(open(geo_path,encoding='utf-8'))\n",
    "except:\n",
    "    geo_data = json.load(open(geo_path,encoding='utf-8-sig'))\n",
    "\n",
    "g_map = folium.Map(location=[35.1831154,129.0710543],tiles='Stamen Terrain',zoom_start=11)\n",
    "\n",
    "\n",
    "folium.Choropleth(geo_data=geo_data,data=df['인구수'],columns=[df.index,df['인구수']],fill_color='YlOrRd',fill_opacity=0.5,\n",
    "                  line_opacity=1,line_color='white',line_weight=2,key_on='feature.properties.SIG_KOR_NM',\n",
    "                  threshold_scale=[40000,150000,250000,350000,450000]).add_to(g_map)\n",
    "for row in range(len(df_gu)):\n",
    "    folium.map.Marker([df_gu.iloc[row,0], df_gu.iloc[row,1]-0.01],\n",
    "       icon=DivIcon(icon_size=(150,36),icon_anchor=(0,0),\n",
    "       html='<div style=\"font-family:BMDO;font-size: 10pt;color:#000000\">%s<br/>%s</div>' %( df_gu.iloc[row,2],tel[df_gu.iloc[row,2]]),\n",
    "                   )).add_to(g_map)\n",
    "g_map.save('./busan.html')"
   ]
  },
  {
   "cell_type": "code",
   "execution_count": null,
   "metadata": {},
   "outputs": [],
   "source": []
  }
 ],
 "metadata": {
  "kernelspec": {
   "display_name": "Python 3",
   "language": "python",
   "name": "python3"
  },
  "language_info": {
   "codemirror_mode": {
    "name": "ipython",
    "version": 3
   },
   "file_extension": ".py",
   "mimetype": "text/x-python",
   "name": "python",
   "nbconvert_exporter": "python",
   "pygments_lexer": "ipython3",
   "version": "3.7.4"
  }
 },
 "nbformat": 4,
 "nbformat_minor": 2
}
